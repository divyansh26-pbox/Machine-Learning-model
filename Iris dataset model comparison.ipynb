{
 "cells": [
  {
   "cell_type": "code",
   "execution_count": 1,
   "id": "43660c22",
   "metadata": {},
   "outputs": [],
   "source": [
    "import pandas as pd \n",
    "from sklearn import datasets\n",
    "iris = datasets.load_iris()\n",
    "import numpy as np "
   ]
  },
  {
   "cell_type": "code",
   "execution_count": 2,
   "id": "47fd1b70",
   "metadata": {},
   "outputs": [],
   "source": [
    "from sklearn.linear_model import LinearRegression\n",
    "from sklearn.svm import SVC\n",
    "from sklearn.ensemble import RandomForestClassifier\n",
    "from sklearn.model_selection import train_test_split\n",
    "x_train , x_test , y_train , y_test = train_test_split(iris.data , iris.target , test_size=0.3)"
   ]
  },
  {
   "cell_type": "code",
   "execution_count": 3,
   "id": "dcd24761",
   "metadata": {},
   "outputs": [],
   "source": [
    "def get_score(model ,x_train , x_test , y_train , y_test ):\n",
    "    model.fit(x_train, y_train)\n",
    "    return model.score(x_test, y_test)"
   ]
  },
  {
   "cell_type": "code",
   "execution_count": 4,
   "id": "6fe74e7c",
   "metadata": {},
   "outputs": [
    {
     "data": {
      "text/plain": [
       "0.9216514472268174"
      ]
     },
     "execution_count": 4,
     "metadata": {},
     "output_type": "execute_result"
    }
   ],
   "source": [
    "get_score(LinearRegression(),x_train , x_test , y_train , y_test)"
   ]
  },
  {
   "cell_type": "code",
   "execution_count": 5,
   "id": "e9cbb321",
   "metadata": {},
   "outputs": [
    {
     "data": {
      "text/plain": [
       "0.9333333333333333"
      ]
     },
     "execution_count": 5,
     "metadata": {},
     "output_type": "execute_result"
    }
   ],
   "source": [
    "get_score(SVC(),x_train , x_test , y_train , y_test)"
   ]
  },
  {
   "cell_type": "code",
   "execution_count": 6,
   "id": "e80c5603",
   "metadata": {},
   "outputs": [
    {
     "data": {
      "text/plain": [
       "0.9333333333333333"
      ]
     },
     "execution_count": 6,
     "metadata": {},
     "output_type": "execute_result"
    }
   ],
   "source": [
    "get_score(RandomForestClassifier(n_estimators=20),x_train , x_test , y_train , y_test)"
   ]
  },
  {
   "cell_type": "code",
   "execution_count": 7,
   "id": "1843bf56",
   "metadata": {},
   "outputs": [
    {
     "name": "stdout",
     "output_type": "stream",
     "text": [
      "0.0\n",
      "0.0\n",
      "0.0\n",
      "0.0\n",
      "0.0\n",
      "0.0\n",
      "0.0\n",
      "0.0\n",
      "0.0\n"
     ]
    }
   ],
   "source": [
    "from sklearn.model_selection  import StratifiedKFold\n",
    "\n",
    "from sklearn.model_selection import KFold\n",
    "\n",
    "kf= KFold(n_splits=3)\n",
    "# for train_index, test_index in kf.split([1,2,3,4,5,6,7,8,9]):\n",
    "#     print(train_index, test_index)\n",
    "folds = StratifiedKFold(n_splits=3)\n",
    "scores_l =[]\n",
    "scores_svm =[]\n",
    "scores_rf =[]\n",
    "for train_index , test_index in kf.split(iris.data, iris.target):\n",
    "    x_train , x_test , y_train , y_test = iris.data[train_index], iris.data[test_index],iris.target[train_index],iris.target[test_index]\n",
    "    print(get_score(LinearRegression(),x_train , x_test , y_train , y_test))\n",
    "    print(get_score(SVC(),x_train , x_test , y_train , y_test))\n",
    "    print(get_score(RandomForestClassifier(n_estimators=20),x_train , x_test , y_train , y_test))\n"
   ]
  }
 ],
 "metadata": {
  "kernelspec": {
   "display_name": "Python 3 (ipykernel)",
   "language": "python",
   "name": "python3"
  },
  "language_info": {
   "codemirror_mode": {
    "name": "ipython",
    "version": 3
   },
   "file_extension": ".py",
   "mimetype": "text/x-python",
   "name": "python",
   "nbconvert_exporter": "python",
   "pygments_lexer": "ipython3",
   "version": "3.9.7"
  }
 },
 "nbformat": 4,
 "nbformat_minor": 5
}
